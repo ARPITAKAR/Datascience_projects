{
 "cells": [
  {
   "cell_type": "code",
   "execution_count": null,
   "id": "5d40ef9f",
   "metadata": {},
   "outputs": [],
   "source": [
    "import pandas as pd\n",
    "import numpy as np"
   ]
  },
  {
   "cell_type": "code",
   "execution_count": null,
   "id": "ac98bbb7",
   "metadata": {},
   "outputs": [],
   "source": [
    "cilent_data=pd.read_csv(\"client_data.csv\")\n",
    "print(\"client data shape\",client_data.shape)\n",
    "client_data.head()"
   ]
  },
  {
   "cell_type": "code",
   "execution_count": null,
   "id": "dc46e80c",
   "metadata": {},
   "outputs": [],
   "source": [
    "deposit_data=pd.read_csv(\"deposits.csv\")\n",
    "print(\"deposit data shape\",deposit_data.shape)\n",
    "client_data.head()"
   ]
  },
  {
   "cell_type": "code",
   "execution_count": null,
   "id": "69ddfe2f",
   "metadata": {},
   "outputs": [],
   "source": [
    "calendar_data=pd.read_csv(\"calendar_data.csv\")\n",
    "print(\"calendar_data_csv\",calendar_data.shape)"
   ]
  },
  {
   "cell_type": "code",
   "execution_count": null,
   "id": "d1402d2b",
   "metadata": {},
   "outputs": [],
   "source": [
    "#merging client and deposit on client_id\n",
    "#columnthat we wanna  merge has same name in  both\n",
    "df=client_data.merge(deposit_date,on=\"client_id\")"
   ]
  },
  {
   "cell_type": "code",
   "execution_count": null,
   "id": "ed073a36",
   "metadata": {},
   "outputs": [],
   "source": [
    "#two diffrent merger left right\n",
    "df=df.merge(calendar_data,left_on=\"deposit_date\",right_on=\"georgian_date\",cop=False)\n",
    "df"
   ]
  },
  {
   "cell_type": "code",
   "execution_count": null,
   "id": "340762ff",
   "metadata": {},
   "outputs": [],
   "source": [
    "#two column similar name deposit_date and georgian_date\n",
    "df.drop(columns=\"georgian_date\",inplace=True)\n",
    "df"
   ]
  },
  {
   "cell_type": "code",
   "execution_count": null,
   "id": "8c39a7df",
   "metadata": {},
   "outputs": [],
   "source": [
    "df[\"client_geogrpahical_region\"].value_counts()\n",
    "\n",
    "\"\"\"\n",
    "west 205629\n",
    "south\n",
    "midwest \n",
    "northeast\n",
    "\"\"\""
   ]
  },
  {
   "cell_type": "code",
   "execution_count": null,
   "id": "aebd3091",
   "metadata": {},
   "outputs": [],
   "source": [
    "#value_counts for categorical data\n",
    "#Descibe() mwthod for numerical  data\n",
    "df[\"client_reisdence_status\"].value_counts()\n",
    "\"\"\"\n",
    "own =345432\n",
    "residence=134962\n",
    "\"\"\""
   ]
  },
  {
   "cell_type": "code",
   "execution_count": null,
   "id": "db3a0f3d",
   "metadata": {},
   "outputs": [],
   "source": [
    "#the youngest  client is 21  yrs  , oldest one 105\n",
    "df[\"client_age\"].describe()"
   ]
  },
  {
   "cell_type": "code",
   "execution_count": null,
   "id": "dfd7258c",
   "metadata": {},
   "outputs": [],
   "source": [
    "# most of the customers are between 40 and 60 years age\n",
    "df[[\"client_age\"]].plot(kind=\"hist\")"
   ]
  },
  {
   "cell_type": "code",
   "execution_count": null,
   "id": "e4a3c6d6",
   "metadata": {},
   "outputs": [],
   "source": [
    "df[\"client_age\"].describe()"
   ]
  },
  {
   "cell_type": "code",
   "execution_count": null,
   "id": "d6a08874",
   "metadata": {},
   "outputs": [],
   "source": [
    "calendar_data[\"month_name\"].value_counts()"
   ]
  },
  {
   "cell_type": "code",
   "execution_count": null,
   "id": "965abdf1",
   "metadata": {},
   "outputs": [],
   "source": [
    "df[\"deposit_date\"].min(),df[\"deposit_date\"].max()"
   ]
  },
  {
   "cell_type": "code",
   "execution_count": null,
   "id": "1cbe89f1",
   "metadata": {},
   "outputs": [],
   "source": [
    "df[\"deposit_type\"].value_counts()"
   ]
  },
  {
   "cell_type": "code",
   "execution_count": null,
   "id": "7cb2584f",
   "metadata": {},
   "outputs": [],
   "source": [
    "df[\"deposit_cadence\"].value_counts()"
   ]
  },
  {
   "cell_type": "code",
   "execution_count": null,
   "id": "6db82367",
   "metadata": {},
   "outputs": [],
   "source": [
    "# deposit date has single quote that means it is string and /\n",
    "# we need to convert it to date time stamp\n",
    "df['deposit_date']=pd.to_datetime(df[\"deposit_date\"])\n",
    "df[\"deposit_date\"].min(),df[\"deposit_date\"].max()"
   ]
  },
  {
   "cell_type": "code",
   "execution_count": null,
   "id": "c7d4b273",
   "metadata": {},
   "outputs": [],
   "source": [
    "from matplotlib import pyplot as plt\n",
    "plt.rcparams[\"figure,figsize\"]=(10,7)"
   ]
  },
  {
   "cell_type": "code",
   "execution_count": null,
   "id": "5f203aa3",
   "metadata": {},
   "outputs": [],
   "source": [
    "# sum of deposit_amount and create a basic plot that/\n",
    "# describes the sum of  all the depositsgrouped by month "
   ]
  },
  {
   "cell_type": "code",
   "execution_count": null,
   "id": "31451989",
   "metadata": {},
   "outputs": [],
   "source": [
    "deposit_amount_by_month=df.groupby(by=df[\"month_name\"])[\"deposit_amount\"].sum()\n",
    "print(deposit_amount_by_month)\n",
    "#plots the line\n",
    "_=plt.plot(deposit_amount_by_month)\n",
    "# set labels to x and y axis and plota title\n",
    "_=plt.title(\"deposit amount per Month\")\n",
    "_=plt.ylabel(\"deposit amount\")\n",
    "_=plt.xlabel(\"Month\")"
   ]
  },
  {
   "cell_type": "code",
   "execution_count": null,
   "id": "019d9ebf",
   "metadata": {},
   "outputs": [],
   "source": [
    "# what if we cahnge from sum of deposit to number of deposit /\n",
    "#by using size() function"
   ]
  },
  {
   "cell_type": "code",
   "execution_count": null,
   "id": "cd66d157",
   "metadata": {},
   "outputs": [],
   "source": [
    "deposit_amount_by_month=df.groupby(by=df[\"month_name\"])[\"deposit_amount\"].size()\n",
    "print(deposit_amount_by_month)\n",
    "#plots the line\n",
    "_=plt.plot(deposit_amount_by_month)\n",
    "# set labels to x and y axis and plota title\n",
    "_=plt.title(\"mumber of deposit per Month\")\n",
    "_=plt.ylabel(\"number of deposits\")\n",
    "_=plt.xlabel(\"Month\")"
   ]
  },
  {
   "cell_type": "code",
   "execution_count": null,
   "id": "901439d1",
   "metadata": {},
   "outputs": [],
   "source": [
    "deposit_amount_by_tpe=df.groupby(by=df[\"deposit_tpe\"])[\"deposit_amount\"].sum()\n",
    "#plot the line\n",
    "_=plt.bar(deposit_amount_by_tpe.index,deposit_amount_by_type)\n",
    "#set labels to x and y  axis and plot a title\n",
    "_=plot.title(\"deposit amount b type\")\n",
    "_=plt.ylabel(\"Deposit amount\")\n",
    "_=plt.xlabel(\"deposit type\")"
   ]
  },
  {
   "cell_type": "code",
   "execution_count": null,
   "id": "dcbbf73e",
   "metadata": {},
   "outputs": [],
   "source": [
    "deposit_amount_by_cadence=df.group_by(by=df[\"deposit_cadence\"])[\"deposit_amount\"].sum()\n",
    "#plot the line\n",
    "_=plt.bar(deposit_amount_by_cadence.index,deposit_amount_by_cadence)\n",
    "_=plt.tilte(\"deposit amount by cadence\")\n",
    "_=plt.ylabel(\"Deposit amount\")\n",
    "_=plt.xlabel(\"Deposit cadence\")"
   ]
  },
  {
   "cell_type": "code",
   "execution_count": null,
   "id": "0c413f2b",
   "metadata": {},
   "outputs": [],
   "source": [
    "tmp_df=df.groupby(by=[df['deposit_cadence'],df['month_name']])[\"deposit_amount\"].sum()\n",
    "ax=tmp_df.unstack(level=0).plot(kind='line')\n",
    "ax.set_xlabel(\"month\")\n",
    "ax.set_ylabel(\"Deposit_amount\")\n",
    "ax.set_title(\"deposit amount per month and cadence\")\n",
    "plt.tight_layout()"
   ]
  },
  {
   "cell_type": "code",
   "execution_count": null,
   "id": "80202a0d",
   "metadata": {},
   "outputs": [],
   "source": [
    "tmp_df=df.groupby(by=[df['deposit_cadence'],df['month_name']])[\"deposit_amount\"].sum()\n",
    "ax=tmp_df.unstack(level=0).plot(kind='line')\n",
    "ax.set_xlabel(\"Month\")\n",
    "ax.set_ylabel(\"Deposit_amount\")\n",
    "ax.set_title(\"Deposit amount per month and cadence\")\n",
    "plt.tight_layout()"
   ]
  },
  {
   "cell_type": "code",
   "execution_count": 3,
   "id": "ee472977",
   "metadata": {},
   "outputs": [],
   "source": [
    "#### [Question1]\n",
    "##### provide a quantitative assesment of wheather  the marketing/campaign was succesfull . how and why did you choose your specefic/success metrics?."
   ]
  },
  {
   "cell_type": "code",
   "execution_count": null,
   "id": "4ca9b476",
   "metadata": {},
   "outputs": [],
   "source": [
    "# clients that have made any deposit in the first rwo months\n",
    "client_before_campaign=df[(df[\"month_name\"]==\"Month1\")| df[\"Month_name\"]==\"Month2\"]['client_id'].unique()\n",
    "client_before_campaign.shape"
   ]
  },
  {
   "cell_type": "code",
   "execution_count": null,
   "id": "d1e42417",
   "metadata": {},
   "outputs": [],
   "source": [
    "# clients that have any  deposit after the campaign\n",
    "client_after_campaign=df[(df[\"month_name\"]==\"Month4\")| df[\"Month_name\"]==\"Month5\"]['client_id'].unique()\n",
    "client_after_campaign.shape"
   ]
  },
  {
   "cell_type": "code",
   "execution_count": null,
   "id": "08bab21b",
   "metadata": {},
   "outputs": [],
   "source": [
    "#convert arrays to sets,and find their diffrences\n",
    "len(set(client_during_campaign).differenece(set(client_before_campaign)))"
   ]
  },
  {
   "cell_type": "code",
   "execution_count": null,
   "id": "99a83ed5",
   "metadata": {},
   "outputs": [],
   "source": []
  },
  {
   "cell_type": "code",
   "execution_count": null,
   "id": "e8a86f95",
   "metadata": {},
   "outputs": [],
   "source": []
  }
 ],
 "metadata": {
  "kernelspec": {
   "display_name": "Python 3 (ipykernel)",
   "language": "python",
   "name": "python3"
  },
  "language_info": {
   "codemirror_mode": {
    "name": "ipython",
    "version": 3
   },
   "file_extension": ".py",
   "mimetype": "text/x-python",
   "name": "python",
   "nbconvert_exporter": "python",
   "pygments_lexer": "ipython3",
   "version": "3.9.13"
  }
 },
 "nbformat": 4,
 "nbformat_minor": 5
}
